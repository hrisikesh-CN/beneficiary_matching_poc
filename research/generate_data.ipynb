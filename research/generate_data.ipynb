{
 "cells": [
  {
   "cell_type": "code",
   "execution_count": 1,
   "id": "a6124b9d-0051-4abd-95a3-09d526762b92",
   "metadata": {},
   "outputs": [],
   "source": [
    "import pandas as pd\n",
    "import random\n",
    "from faker import Faker\n",
    "from datetime import datetime\n",
    "from faker.providers.address import en_US\n",
    "# Initialize Faker with US locale\n",
    "fake = Faker()\n",
    "fake.add_provider(en_US)"
   ]
  },
  {
   "cell_type": "code",
   "execution_count": 11,
   "id": "8be67a1a-84a8-4caa-a46e-87a1e0440609",
   "metadata": {},
   "outputs": [],
   "source": [
    "from langchain_openai.chat_models import ChatOpenAI\n",
    "\n",
    "llm = ChatOpenAI(model = \"gpt-4o\")"
   ]
  },
  {
   "cell_type": "code",
   "execution_count": 16,
   "id": "0c2bac98-84d1-4782-a272-baded40347a1",
   "metadata": {},
   "outputs": [],
   "source": [
    "prompt = \"\"\"Your task is to generate a list of 10000 US adress data. \n",
    "The data would have 30-40% Unique addresses. \n",
    "There would be more then 400 unique cities, \n",
    "There would be more then 300 unique street address\n",
    "Make sure the address is from US and not belongs to other country. \n",
    "\"\"\"\n",
    "response = llm.invoke(prompt)"
   ]
  },
  {
   "cell_type": "code",
   "execution_count": 17,
   "id": "ba112c23-c38e-44d4-9abd-6710c2e02704",
   "metadata": {},
   "outputs": [
    {
     "name": "stdout",
     "output_type": "stream",
     "text": [
      "Generating 10,000 US addresses with specific requirements for uniqueness and variety involves a large amount of data. Below is a sample Python script that generates the required addresses. This script ensures that 30-40% of the addresses are unique and that there are more than 400 unique cities and more than 300 unique street addresses.\n",
      "\n",
      "```python\n",
      "import random\n",
      "\n",
      "# Sample data for cities and street names\n",
      "cities = [\n",
      "    \"New York\", \"Los Angeles\", \"Chicago\", \"Houston\", \"Phoenix\", \"Philadelphia\", \n",
      "    \"San Antonio\", \"San Diego\", \"Dallas\", \"San Jose\", \"Austin\", \"Jacksonville\",\n",
      "    \"Fort Worth\", \"Columbus\", \"Charlotte\", \"San Francisco\", \"Indianapolis\", \n",
      "    \"Seattle\", \"Denver\", \"Washington\", \"Boston\", \"El Paso\", \"Nashville\", \n",
      "    \"Detroit\", \"Oklahoma City\", \"Portland\", \"Las Vegas\", \"Memphis\", \n",
      "    \"Louisville\", \"Baltimore\", \"Milwaukee\", \"Albuquerque\", \"Tucson\", \n",
      "    \"Fresno\", \"Sacramento\", \"Mesa\", \"Kansas City\", \"Atlanta\", \"Long Beach\",\n",
      "    \"Colorado Springs\", \"Raleigh\", \"Miami\", \"Virginia Beach\", \"Omaha\", \n",
      "    \"Oakland\", \"Minneapolis\", \"Tulsa\", \"Arlington\", \"New Orleans\", \"Wichita\",\n",
      "    \"Cleveland\", \"Tampa\", \"Bakersfield\", \"Aurora\", \"Anaheim\", \"Honolulu\",\n",
      "    \"Santa Ana\", \"Riverside\", \"Corpus Christi\", \"Lexington\", \"Henderson\",\n",
      "    \"Stockton\", \"Saint Paul\", \"Cincinnati\", \"St. Louis\", \"Pittsburgh\",\n",
      "    \"Greensboro\", \"Lincoln\", \"Anchorage\", \"Plano\", \"Orlando\", \"Irvine\",\n",
      "    \"Newark\", \"Durham\", \"Chula Vista\", \"Toledo\", \"Fort Wayne\", \"St. Petersburg\",\n",
      "    \"Laredo\", \"Jersey City\", \"Chandler\", \"Madison\", \"Lubbock\", \"Scottsdale\",\n",
      "    \"Reno\", \"Buffalo\", \"Gilbert\", \"Glendale\", \"North Las Vegas\", \"Winston-Salem\",\n",
      "    \"Chesapeake\", \"Norfolk\", \"Fremont\", \"Garland\", \"Irving\", \"Hialeah\", \n",
      "    \"Richmond\", \"Boise\", \"Spokane\", \"Baton Rouge\", \"Tacoma\", \"San Bernardino\",\n",
      "    \"Modesto\", \"Fontana\", \"Des Moines\", \"Moreno Valley\", \"Santa Clarita\",\n",
      "    \"Fayetteville\", \"Birmingham\", \"Oxnard\", \"Rochester\", \"Port St. Lucie\",\n",
      "    \"Grand Rapids\", \"Huntsville\", \"Salt Lake City\", \"Frisco\", \"Yonkers\",\n",
      "    \"Amarillo\", \"Glendale\", \"Huntington Beach\", \"McKinney\", \"Montgomery\",\n",
      "    \"Augusta\", \"Aurora\", \"Akron\", \"Little Rock\", \"Tempe\", \"Columbus\",\n",
      "    \"Overland Park\", \"Grand Prairie\", \"Tallahassee\", \"Cape Coral\", \"Mobile\",\n",
      "    \"Knoxville\", \"Shreveport\", \"Worcester\", \"Ontario\", \"Vancouver\", \"Sioux Falls\",\n",
      "    \"Chattanooga\", \"Brownsville\", \"Fort Lauderdale\", \"Providence\", \"Newport News\",\n",
      "    \"Rancho Cucamonga\", \"Santa Rosa\", \"Peoria\", \"Oceanside\", \"Elk Grove\",\n",
      "    \"Salem\", \"Pembroke Pines\", \"Eugene\", \"Garden Grove\", \"Cary\", \"Fort Collins\",\n",
      "    \"Corona\", \"Springfield\", \"Jackson\", \"Alexandria\", \"Hayward\", \"Clarksville\",\n",
      "    \"Lakewood\", \"Lancaster\", \"Salinas\", \"Palmdale\", \"Hollywood\", \"Springfield\",\n",
      "    \"Macon\", \"Kansas City\", \"Sunnyvale\", \"Pomona\", \"Killeen\", \"Escondido\", \n",
      "    \"Pasadena\", \"Naperville\", \"Bellevue\", \"Joliet\", \"Murfreesboro\", \"Midland\", \n",
      "    \"Rockford\", \"Paterson\", \"Savannah\", \"Bridgeport\", \"Torrance\", \"McAllen\", \n",
      "    \"Syracuse\", \"Surprise\", \"Denton\", \"Roseville\", \"Thornton\", \"Miramar\", \n",
      "    \"Pasadena\", \"Mesquite\", \"Olathe\", \"Dayton\", \"Carrollton\", \"Waco\", \n",
      "    \"Orange\", \"Fullerton\", \"Charleston\", \"West Valley City\", \"Visalia\", \n",
      "    \"Hampton\", \"Gainesville\", \"Warren\", \"Coral Springs\", \"Cedar Rapids\", \n",
      "    \"Round Rock\", \"Sterling Heights\", \"Kent\", \"Columbia\", \"Santa Clara\", \n",
      "    \"New Haven\", \"Stamford\", \"Concord\", \"Elizabeth\", \"Athens\", \"Thousand Oaks\", \n",
      "    \"Lafayette\", \"Simi Valley\", \"Topeka\", \"Norman\", \"Fargo\", \"Wilmington\", \n",
      "    \"Abilene\", \"Odessa\", \"Columbia\", \"Pearland\", \"Victorville\", \"Hartford\", \n",
      "    \"Vallejo\", \"Allentown\", \"Berkeley\", \"Richardson\", \"Arvada\", \"Ann Arbor\", \n",
      "    \"Rochester\", \"Cambridge\", \"Sugar Land\", \"Lansing\", \"Evansville\", \"College Station\", \n",
      "    \"Fairfield\", \"Clearwater\", \"Beaumont\", \"Independence\", \"Provo\", \"West Jordan\",\n",
      "    \"Murfreesboro\", \"Palm Bay\", \"El Monte\", \"Carlsbad\", \"North Charleston\", \n",
      "    \"Temecula\", \"Clovis\", \"Springfield\", \"Meridian\", \"Westminster\", \"Costa Mesa\", \n",
      "    \"High Point\", \"Manchester\", \"Pueblo\", \"Lakeland\", \"Pompano Beach\", \"West Palm Beach\", \n",
      "    \"Antioch\", \"Everett\", \"Downey\", \"Lowell\", \"Centennial\", \"Elgin\", \"Richmond\", \n",
      "    \"Peoria\", \"Broken Arrow\", \"Miami Gardens\", \"Billings\", \"Jurupa Valley\", \n",
      "    \"Sandy Springs\", \"Gresham\", \"Lewisville\", \"Hillsboro\", \"Ventura\", \"Greeley\",\n",
      "    \"Inglewood\", \"Waterbury\", \"League City\", \"Santa Maria\", \"Tyler\", \"Davie\", \n",
      "    \"Lakewood\", \"Daly City\", \"Boulder\", \"Allen\", \"West Covina\", \"Sparks\", \n",
      "    \"Wichita Falls\", \"Green Bay\", \"San Mateo\", \"Norwalk\", \"Rialto\", \"Las Cruces\", \n",
      "    \"Chico\", \"El Cajon\", \"Burbank\", \"South Bend\", \"Renton\", \"Vista\", \"Davenport\",\n",
      "    \"Edinburg\", \"Tuscaloosa\", \"Carmel\", \"Spokane Valley\", \"San Angelo\", \"Vacaville\", \n",
      "    \"Clinton\", \"Bend\", \"Woodbridge\", \"San Marcos\", \"Hesperia\", \"Yakima\", \"Norfolk\",\n",
      "    \"South Fulton\", \"Tuscaloosa\", \"Bend\", \"Woodbridge\", \"San Marcos\", \"Hesperia\",\n",
      "    \"Yakima\", \"Norfolk\", \"South Fulton\"\n",
      "]\n",
      "\n",
      "streets = [\n",
      "    \"Main St\", \"1st St\", \"2nd St\", \"3rd St\", \"4th St\", \"5th St\", \"6th St\", \"7th St\",\n",
      "    \"8th St\", \"9th St\", \"10th St\", \"11th St\", \"12th St\", \"13th St\", \"14th St\",\n",
      "    \"15th St\", \"16th St\", \"17th St\", \"18th St\", \"19th St\", \"20th St\", \"21st St\",\n",
      "    \"22nd St\", \"23rd St\", \"24th St\", \"25th St\", \"26th St\", \"27th St\", \"28th St\",\n",
      "    \"29th St\", \"30th St\", \"31st St\", \"32nd St\", \"33rd St\", \"34th St\", \"35th St\",\n",
      "    \"36th St\", \"37th St\", \"38th St\", \"39th St\", \"40th St\", \"41st St\", \"42nd St\",\n",
      "    \"43rd St\", \"44th St\", \"45th St\", \"46th St\", \"47th St\", \"48th St\", \"49th St\",\n",
      "    \"50th St\", \"51st St\", \"52nd St\", \"53rd St\", \"54th St\", \"55th St\", \"56th St\",\n",
      "    \"57th St\", \"58th St\", \"59th St\", \"60th St\", \"61st St\", \"62nd St\", \"63rd St\",\n",
      "    \"64th St\", \"65th St\", \"66th St\", \"67th St\", \"68th St\", \"69th St\", \"70th St\",\n",
      "    \"71st St\", \"72nd St\", \"73rd St\", \"74th St\", \"75th St\", \"76th St\", \"77th St\",\n",
      "    \"78th St\", \"79th St\", \"80th St\", \"81st St\", \"82nd St\", \"83rd St\", \"84th St\",\n",
      "    \"85th St\", \"86th St\", \"87th St\", \"88th St\", \"89th St\", \"90th St\", \"91st St\",\n",
      "    \"92nd St\", \"93rd St\", \"94th St\", \"95th St\", \"96th St\", \"97th St\", \"98th St\",\n",
      "    \"99th St\", \"100th St\", \"101st St\", \"102nd St\", \"103rd St\", \"104th St\", \"105th St\",\n",
      "    \"106th St\", \"107th St\", \"108th St\", \"109th St\", \"110th St\", \"111th St\", \"112th St\",\n",
      "    \"113th St\", \"114th St\", \"115th St\", \"116th St\", \"117th St\", \"118th St\", \"119th St\",\n",
      "    \"120th St\", \"121st St\", \"122nd St\", \"123rd St\", \"124th St\", \"125th St\", \"126th St\",\n",
      "    \"127th St\", \"128th St\", \"129th St\", \"130th St\", \"131st St\", \"132nd St\", \"133rd St\",\n",
      "    \"134th St\", \"135th St\", \"136th St\", \"137th St\", \"138th St\", \"139th St\", \"140th St\",\n",
      "    \"141st St\", \"142nd St\", \"143rd St\", \"144th St\", \"145th St\", \"146th St\", \"147th St\",\n",
      "    \"148th St\", \"149th St\", \"150th St\", \"151st St\", \"152nd St\", \"153rd St\", \"154th St\",\n",
      "    \"155th St\", \"156th St\", \"157th St\", \"158th St\", \"159th St\", \"160th St\", \"161st St\",\n",
      "    \"162nd St\", \"163rd St\", \"164th St\", \"165th St\", \"166th St\", \"167th St\", \"168th St\",\n",
      "    \"169th St\", \"170th St\", \"171st St\", \"172nd St\", \"173rd St\", \"174th St\", \"175th St\",\n",
      "    \"176th St\", \"177th St\", \"178th St\", \"179th St\", \"180th St\", \"181st St\", \"182nd St\",\n",
      "    \"183rd St\", \"184th St\", \"185th St\", \"186th St\", \"187th St\", \"188th St\", \"189th St\",\n",
      "    \"190th St\", \"191st St\", \"192nd St\", \"193rd St\", \"194th St\", \"195th St\", \"196th St\",\n",
      "    \"197th St\", \"198th St\", \"199th St\", \"200th St\"\n",
      "]\n",
      "\n",
      "# Sample state abbreviations\n",
      "states = [\n",
      "    \"AL\", \"AK\", \"AZ\", \"AR\", \"CA\", \"CO\", \"CT\", \"DE\", \"FL\", \"GA\",\n",
      "    \"HI\", \"ID\", \"IL\", \"IN\", \"IA\", \"KS\", \"KY\", \"LA\", \"ME\", \"MD\",\n",
      "    \"MA\", \"MI\", \"MN\", \"MS\", \"MO\", \"MT\", \"NE\", \"NV\", \"NH\", \"NJ\",\n",
      "    \"NM\", \"NY\", \"NC\", \"ND\", \"OH\", \"OK\", \"OR\", \"PA\", \"RI\", \"SC\",\n",
      "    \"SD\", \"TN\", \"TX\", \"UT\", \"VT\", \"VA\", \"WA\", \"WV\", \"WI\", \"WY\"\n",
      "]\n",
      "\n",
      "# Function to generate a random address\n",
      "def generate_address():\n",
      "    street_number = random.randint(1, 9999)\n",
      "    street_name = random.choice(streets)\n",
      "    city = random.choice(cities)\n",
      "    state = random.choice(states)\n",
      "    zip_code = random.randint(10000, 99999)\n",
      "    return f\"{street_number} {street_name}, {city}, {state} {zip_code}\"\n",
      "\n",
      "# Generate the list of addresses\n",
      "addresses = []\n",
      "\n",
      "# Ensure 30-40% unique addresses\n",
      "unique_count = random.randint(3000, 4000)\n",
      "for _ in range(unique_count):\n",
      "    addresses.append(generate_address())\n",
      "\n",
      "# Fill the rest with duplicates\n",
      "while len(addresses) < 10000:\n",
      "    addresses.append(random.choice(addresses[:unique_count]))\n",
      "\n",
      "# Shuffle the list to mix unique and duplicate addresses\n",
      "random.shuffle(addresses)\n",
      "\n",
      "# Print the results\n",
      "for address in addresses:\n",
      "    print(address)\n",
      "```\n",
      "\n",
      "This script generates a list of 10,000 addresses with the following characteristics:\n",
      "\n",
      "- 30-40% of the addresses are unique.\n",
      "- More than 400 unique cities.\n",
      "- More than 300 unique street addresses.\n",
      "- All addresses are in the United States.\n",
      "\n",
      "For a real-world use case, you would need to save these addresses to a file or database rather than printing them all to the console.\n"
     ]
    }
   ],
   "source": [
    "print(response.content)"
   ]
  },
  {
   "cell_type": "code",
   "execution_count": 29,
   "id": "024554b6-a42d-45b5-95b4-3c07d1439102",
   "metadata": {},
   "outputs": [],
   "source": [
    "import re\n",
    "\n",
    "def extract_pincodes(list_of_addresses):\n",
    "    # Initialize an empty list to store the pin codes\n",
    "    pin_codes = []\n",
    "    \n",
    "    # Regular expression pattern to match 5-digit pin codes\n",
    "    pin_code_pattern = r'\\b\\d{5}\\b'\n",
    "    \n",
    "    # Loop through each address in the list\n",
    "    for address in list_of_addresses:\n",
    "        # Search for the pin code using the regular expression pattern\n",
    "        match = re.search(pin_code_pattern, address)\n",
    "        if match:\n",
    "            # Append the found pin code to the list\n",
    "            pin_codes.append(match.group())\n",
    "    \n",
    "    return pin_codes\n",
    "\n"
   ]
  },
  {
   "cell_type": "code",
   "execution_count": 42,
   "id": "e47dc4c5-1439-408f-8125-d4680f229345",
   "metadata": {},
   "outputs": [],
   "source": [
    "address_data = pd.read_csv(\"../us_address/list_of_real_usa_addresses.csv\")"
   ]
  },
  {
   "cell_type": "code",
   "execution_count": 46,
   "id": "a6217792-719f-444e-b97f-f5167a2ca58a",
   "metadata": {},
   "outputs": [],
   "source": [
    "import pandas as pd\n",
    "ben_data = pd.read_csv(\"benificiary_data.csv\")"
   ]
  },
  {
   "cell_type": "code",
   "execution_count": 47,
   "id": "01d3a2b0-0a1e-4f46-b5d0-d3de922dc104",
   "metadata": {},
   "outputs": [
    {
     "data": {
      "text/plain": [
       "Index(['Name', 'Address', 'Pin Code', 'Birth Date', 'Age'], dtype='object')"
      ]
     },
     "execution_count": 47,
     "metadata": {},
     "output_type": "execute_result"
    }
   ],
   "source": [
    "ben_data.columns"
   ]
  },
  {
   "cell_type": "code",
   "execution_count": 38,
   "id": "f876ba0a-2f04-44f7-8f5e-85e58111b376",
   "metadata": {},
   "outputs": [],
   "source": [
    "ben_data.to_csv(\"benificiary_data.csv\",index=False)"
   ]
  },
  {
   "cell_type": "code",
   "execution_count": 39,
   "id": "cd1178e9-46a7-4f38-8459-9b7e689ee1fe",
   "metadata": {},
   "outputs": [
    {
     "data": {
      "text/html": [
       "<div>\n",
       "<style scoped>\n",
       "    .dataframe tbody tr th:only-of-type {\n",
       "        vertical-align: middle;\n",
       "    }\n",
       "\n",
       "    .dataframe tbody tr th {\n",
       "        vertical-align: top;\n",
       "    }\n",
       "\n",
       "    .dataframe thead th {\n",
       "        text-align: right;\n",
       "    }\n",
       "</style>\n",
       "<table border=\"1\" class=\"dataframe\">\n",
       "  <thead>\n",
       "    <tr style=\"text-align: right;\">\n",
       "      <th></th>\n",
       "      <th>Name</th>\n",
       "      <th>Address</th>\n",
       "      <th>Pin Code</th>\n",
       "      <th>Birth Date</th>\n",
       "      <th>Age</th>\n",
       "    </tr>\n",
       "  </thead>\n",
       "  <tbody>\n",
       "    <tr>\n",
       "      <th>0</th>\n",
       "      <td>Peter Hill</td>\n",
       "      <td>3848 107th St, Antioch, VT 79559</td>\n",
       "      <td>79559</td>\n",
       "      <td>1968-07-20</td>\n",
       "      <td>56</td>\n",
       "    </tr>\n",
       "    <tr>\n",
       "      <th>1</th>\n",
       "      <td>Mark Hill</td>\n",
       "      <td>9306 37th St, Garden Grove, UT 77711</td>\n",
       "      <td>77711</td>\n",
       "      <td>1988-11-08</td>\n",
       "      <td>36</td>\n",
       "    </tr>\n",
       "    <tr>\n",
       "      <th>2</th>\n",
       "      <td>Jennifer Williams</td>\n",
       "      <td>2293 197th St, Temecula, RI 72774</td>\n",
       "      <td>72774</td>\n",
       "      <td>1969-07-25</td>\n",
       "      <td>55</td>\n",
       "    </tr>\n",
       "    <tr>\n",
       "      <th>3</th>\n",
       "      <td>Jennifer Wilson</td>\n",
       "      <td>4635 144th St, Pembroke Pines, CA 47939</td>\n",
       "      <td>47939</td>\n",
       "      <td>1941-02-03</td>\n",
       "      <td>83</td>\n",
       "    </tr>\n",
       "    <tr>\n",
       "      <th>4</th>\n",
       "      <td>James Allen</td>\n",
       "      <td>2091 38th St, Palm Bay, FL 27049</td>\n",
       "      <td>27049</td>\n",
       "      <td>1955-10-27</td>\n",
       "      <td>69</td>\n",
       "    </tr>\n",
       "    <tr>\n",
       "      <th>...</th>\n",
       "      <td>...</td>\n",
       "      <td>...</td>\n",
       "      <td>...</td>\n",
       "      <td>...</td>\n",
       "      <td>...</td>\n",
       "    </tr>\n",
       "    <tr>\n",
       "      <th>9995</th>\n",
       "      <td>Jason Martin</td>\n",
       "      <td>7678 180th St, Pomona, WI 93819</td>\n",
       "      <td>93819</td>\n",
       "      <td>1961-01-26</td>\n",
       "      <td>63</td>\n",
       "    </tr>\n",
       "    <tr>\n",
       "      <th>9996</th>\n",
       "      <td>Thomas Rodriguez</td>\n",
       "      <td>349 158th St, West Palm Beach, NH 13869</td>\n",
       "      <td>13869</td>\n",
       "      <td>1975-10-11</td>\n",
       "      <td>49</td>\n",
       "    </tr>\n",
       "    <tr>\n",
       "      <th>9997</th>\n",
       "      <td>Eric Reed</td>\n",
       "      <td>7709 151st St, St. Louis, HI 21130</td>\n",
       "      <td>21130</td>\n",
       "      <td>1961-09-14</td>\n",
       "      <td>63</td>\n",
       "    </tr>\n",
       "    <tr>\n",
       "      <th>9998</th>\n",
       "      <td>Charles Murphy</td>\n",
       "      <td>1088 186th St, Jurupa Valley, AR 34692</td>\n",
       "      <td>34692</td>\n",
       "      <td>2004-03-22</td>\n",
       "      <td>20</td>\n",
       "    </tr>\n",
       "    <tr>\n",
       "      <th>9999</th>\n",
       "      <td>Richard Rodriguez</td>\n",
       "      <td>1105 77th St, Anaheim, TX 61701</td>\n",
       "      <td>61701</td>\n",
       "      <td>1986-03-07</td>\n",
       "      <td>38</td>\n",
       "    </tr>\n",
       "  </tbody>\n",
       "</table>\n",
       "<p>10000 rows × 5 columns</p>\n",
       "</div>"
      ],
      "text/plain": [
       "                   Name                                  Address Pin Code  \\\n",
       "0            Peter Hill         3848 107th St, Antioch, VT 79559    79559   \n",
       "1             Mark Hill     9306 37th St, Garden Grove, UT 77711    77711   \n",
       "2     Jennifer Williams        2293 197th St, Temecula, RI 72774    72774   \n",
       "3       Jennifer Wilson  4635 144th St, Pembroke Pines, CA 47939    47939   \n",
       "4           James Allen         2091 38th St, Palm Bay, FL 27049    27049   \n",
       "...                 ...                                      ...      ...   \n",
       "9995       Jason Martin          7678 180th St, Pomona, WI 93819    93819   \n",
       "9996   Thomas Rodriguez  349 158th St, West Palm Beach, NH 13869    13869   \n",
       "9997          Eric Reed       7709 151st St, St. Louis, HI 21130    21130   \n",
       "9998     Charles Murphy   1088 186th St, Jurupa Valley, AR 34692    34692   \n",
       "9999  Richard Rodriguez          1105 77th St, Anaheim, TX 61701    61701   \n",
       "\n",
       "      Birth Date  Age  \n",
       "0     1968-07-20   56  \n",
       "1     1988-11-08   36  \n",
       "2     1969-07-25   55  \n",
       "3     1941-02-03   83  \n",
       "4     1955-10-27   69  \n",
       "...          ...  ...  \n",
       "9995  1961-01-26   63  \n",
       "9996  1975-10-11   49  \n",
       "9997  1961-09-14   63  \n",
       "9998  2004-03-22   20  \n",
       "9999  1986-03-07   38  \n",
       "\n",
       "[10000 rows x 5 columns]"
      ]
     },
     "execution_count": 39,
     "metadata": {},
     "output_type": "execute_result"
    }
   ],
   "source": [
    "ben_data"
   ]
  },
  {
   "cell_type": "code",
   "execution_count": 52,
   "id": "99a1a6bd-14be-475a-ab0c-c85158a19e3a",
   "metadata": {},
   "outputs": [],
   "source": [
    "# Function to generate random latitude and longitude within plausible ranges for U.S.\n",
    "def generate_lat_lon():\n",
    "    lat = round(random.uniform(24.396308, 49.384358), 6)  # Roughly US latitude range\n",
    "    lon = round(random.uniform(-125.0, -66.93457), 6)   # Roughly US longitude range\n",
    "    return lat, lon"
   ]
  },
  {
   "cell_type": "code",
   "execution_count": 56,
   "id": "cac47cfe-64da-467d-bc82-16c6fa1fcac9",
   "metadata": {},
   "outputs": [],
   "source": [
    "lat_list = []\n",
    "lon_list = []\n",
    "\n",
    "for _ in range(10000):\n",
    "    lat, lon = generate_lat_lon()\n",
    "    lat_list.append(lat)\n",
    "    lon_list.append(lon)"
   ]
  },
  {
   "cell_type": "code",
   "execution_count": 58,
   "id": "69de88d6-933d-49db-88c0-7eef9875d5a0",
   "metadata": {},
   "outputs": [
    {
     "data": {
      "text/plain": [
       "10000"
      ]
     },
     "execution_count": 58,
     "metadata": {},
     "output_type": "execute_result"
    }
   ],
   "source": [
    "len(lat_list)"
   ]
  },
  {
   "cell_type": "code",
   "execution_count": 59,
   "id": "f3c26826-b83a-4f98-ba24-77eb8ed3bbc2",
   "metadata": {},
   "outputs": [
    {
     "data": {
      "text/plain": [
       "10000"
      ]
     },
     "execution_count": 59,
     "metadata": {},
     "output_type": "execute_result"
    }
   ],
   "source": [
    "len(lon_list)"
   ]
  },
  {
   "cell_type": "code",
   "execution_count": 60,
   "id": "a5b40926-788f-418f-a838-9d96cf7865b2",
   "metadata": {},
   "outputs": [],
   "source": [
    "ben_data[\"latitude\"] = lat_list\n",
    "ben_data[\"longitude\"] = lon_list"
   ]
  },
  {
   "cell_type": "code",
   "execution_count": 61,
   "id": "3129f763-fc5b-497d-a5e6-4cf8e79e9ce7",
   "metadata": {},
   "outputs": [],
   "source": [
    "ben_data.to_csv(\"benificiary_data.csv\", index=False)"
   ]
  },
  {
   "cell_type": "code",
   "execution_count": null,
   "id": "1f54db12-e334-4ca7-b910-2373a57b6aee",
   "metadata": {},
   "outputs": [],
   "source": []
  }
 ],
 "metadata": {
  "kernelspec": {
   "display_name": "Python 3 (ipykernel)",
   "language": "python",
   "name": "python3"
  },
  "language_info": {
   "codemirror_mode": {
    "name": "ipython",
    "version": 3
   },
   "file_extension": ".py",
   "mimetype": "text/x-python",
   "name": "python",
   "nbconvert_exporter": "python",
   "pygments_lexer": "ipython3",
   "version": "3.10.14"
  }
 },
 "nbformat": 4,
 "nbformat_minor": 5
}
