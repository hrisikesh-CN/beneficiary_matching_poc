{
 "cells": [
  {
   "cell_type": "markdown",
   "metadata": {},
   "source": [
    "# Beneficiary Matching Solution\n",
    "\n",
    "### Objective\n",
    "- Develop a system to match potential beneficiaries using limited details of the deceased, such as name and address.\n",
    "- The output should be a ranked list of probable beneficiaries with associated probability scores.\n",
    "\n",
    "### Initial Steps\n",
    "1. **Input Data**:\n",
    "   - Details provided: Name, Full Address, City, State, and ZIP Code of the deceased.\n",
    "2. **Output Data**:\n",
    "   - A ranked list of probable beneficiaries with probability scores.\n",
    "\n",
    "### 1. Preprocessing\n",
    "- **Standardize Data**: Convert names and addresses to a uniform format (e.g., lowercase, remove special characters).\n",
    "- **Tokenize and Encode**: Use text embeddings (like BERT, Sentence-BERT) for names and addresses to capture their meanings and nuances.\n",
    "- **Choose Similarity Metrics**: Cosine similarity or Jaccard index to compare names and addresses between deceased and potential beneficiaries.\n",
    "\n",
    "### 2. Feature Engineering\n",
    "- **Name Similarity**: Use Levenshtein Distance, Jaro-Winkler, or BERT-based similarity measures.\n",
    "- **Address Similarity**: Handle address matching using text embeddings or by comparing individual components (street, city, state).\n",
    "- **Location Proximity**: Consider using geolocation (lat/long) if available, to refine matches based on physical proximity.\n",
    "\n",
    "### 3. Matching Process\n",
    "- **Model Type**: Start with an unsupervised approach focused on scoring and ranking based on similarities.\n",
    "- **Composite Scoring**: Combine individual similarity scores into a composite score to rank potential matches. Adjust weighting to balance name and address importance.\n",
    "\n",
    "### Implementation Strategy\n",
    "- Use Sentence-BERT or a similar model to handle semantic search and similarity scoring.\n",
    "- Clustering could be useful for grouping similar entries and reducing search space, especially for larger datasets.\n"
   ]
  },
  {
   "cell_type": "code",
   "execution_count": null,
   "metadata": {},
   "outputs": [],
   "source": [
    "# Install necessary libraries\n",
    "# !pip install pandas numpy scikit-learn sentence-transformers\n",
    "\n",
    "import pandas as pd\n",
    "from sentence_transformers import SentenceTransformer, util\n",
    "\n",
    "# Load the dataset\n",
    "df = pd.read_csv('expandedbenificiary_data.csv')\n",
    "\n",
    "# Model for semantic similarity\n",
    "model = SentenceTransformer('paraphrase-MiniLM-L6-v2')\n",
    "\n",
    "# Deceased details (example input)\n",
    "deceased_details = {\n",
    "    'Name': 'John Doe',\n",
    "    'Full Address': '123 Elm St, Downtown, Springfield, IL, 62701'\n",
    "}\n",
    "\n",
    "# Encode the deceased's name and address\n",
    "deceased_name_embedding = model.encode(deceased_details['Name'])\n",
    "deceased_address_embedding = model.encode(deceased_details['Full Address'])\n",
    "\n",
    "# Function to calculate similarity score\n",
    "def calculate_similarity(row):\n",
    "    # Encode beneficiary's name and address\n",
    "    beneficiary_name_embedding = model.encode(row['Name'])\n",
    "    beneficiary_address_embedding = model.encode(row['Full Address'])\n",
    "\n",
    "    # Similarity calculations\n",
    "    name_similarity = util.pytorch_cos_sim(deceased_name_embedding, beneficiary_name_embedding).item()\n",
    "    address_similarity = util.pytorch_cos_sim(deceased_address_embedding, beneficiary_address_embedding).item()\n",
    "\n",
    "    # Composite score\n",
    "    composite_score = 0.5 * name_similarity + 0.5 * address_similarity\n",
    "    return composite_score\n",
    "\n",
    "# Apply scoring\n",
    "df['Probability Score'] = df.apply(calculate_similarity, axis=1)\n",
    "\n",
    "# Sort and select top matches\n",
    "sorted_df = df.sort_values(by='Probability Score', ascending=False)\n",
    "top_matches = sorted_df.head(10)\n",
    "\n",
    "# Output top probable beneficiaries\n",
    "print(top_matches[['Name', 'Full Address', 'Probability Score']])\n"
   ]
  },
  {
   "cell_type": "markdown",
   "metadata": {},
   "source": [
    "### Considerations\n",
    "- **Adjust Weights**: Experiment with different weights for the composite score to balance name and address relevance.\n",
    "- **Expand Features**: Consider adding other non-sensitive features (e.g., age, partial identifiers) if available.\n",
    "- **Feedback Loop**: Use feedback from actual matches to refine and adjust the model over time for better accuracy.\n"
   ]
  },
  {
   "cell_type": "code",
   "execution_count": 1,
   "metadata": {},
   "outputs": [
    {
     "data": {
      "text/plain": [
       "True"
      ]
     },
     "execution_count": 1,
     "metadata": {},
     "output_type": "execute_result"
    }
   ],
   "source": [
    "import os \n",
    "from dotenv import load_dotenv\n",
    "\n",
    "os.chdir(\"..\")\n",
    "load_dotenv()"
   ]
  },
  {
   "cell_type": "code",
   "execution_count": 3,
   "metadata": {},
   "outputs": [],
   "source": [
    "import pandas as pd\n",
    "\n",
    "benificiary_data = pd.read_csv(\"benificiary_data.csv\")"
   ]
  },
  {
   "cell_type": "code",
   "execution_count": 5,
   "metadata": {},
   "outputs": [],
   "source": [
    "import os\n",
    "import pandas as pd\n",
    "from pandasai import Agent\n",
    "\n",
    "from pandasai.llm import OpenAI\n",
    "from pandasai import SmartDataframe\n",
    "\n",
    "\n",
    "# os.environ[\"PANDASAI_API_KEY\"] = \"YOUR_API_KEY\"\n",
    "llm = OpenAI()\n",
    "\n",
    "data = SmartDataframe(\"benificiary_data.csv\",\n",
    "                       config={\"llm\": llm})\n"
   ]
  },
  {
   "cell_type": "code",
   "execution_count": 6,
   "metadata": {},
   "outputs": [
    {
     "name": "stdout",
     "output_type": "stream",
     "text": [
      "{'type': 'dataframe', 'value':                Name                                            Address  \\\n",
      "0   Joshua Campbell  2632 Henry Roads Apt. 790, South Lauren, LA 75990   \n",
      "1   Sandra Thompson          058 Richardson Plaza, Larrystad, GU 88136   \n",
      "2  Melanie Gonzalez      497 Jones Landing, Port Sheilamouth, MP 39117   \n",
      "3  Samantha Edwards  59865 Benjamin Spur Suite 119, Singhtown, RI 7...   \n",
      "4    Nathan Johnson            206 Molina Ferry, West Angela, IL 23011   \n",
      "\n",
      "   Pin Code  Birth Date  Age  \n",
      "0     75990  1941-10-04   83  \n",
      "1     88136  1976-05-01   48  \n",
      "2     39117  1963-10-07   61  \n",
      "3     72042  1999-04-16   25  \n",
      "4     23011  1988-06-09   36  }\n"
     ]
    },
    {
     "data": {
      "text/html": [
       "<div>\n",
       "<style scoped>\n",
       "    .dataframe tbody tr th:only-of-type {\n",
       "        vertical-align: middle;\n",
       "    }\n",
       "\n",
       "    .dataframe tbody tr th {\n",
       "        vertical-align: top;\n",
       "    }\n",
       "\n",
       "    .dataframe thead th {\n",
       "        text-align: right;\n",
       "    }\n",
       "</style>\n",
       "<table border=\"1\" class=\"dataframe\">\n",
       "  <thead>\n",
       "    <tr style=\"text-align: right;\">\n",
       "      <th></th>\n",
       "      <th>Name</th>\n",
       "      <th>Address</th>\n",
       "      <th>Pin Code</th>\n",
       "      <th>Birth Date</th>\n",
       "      <th>Age</th>\n",
       "    </tr>\n",
       "  </thead>\n",
       "  <tbody>\n",
       "    <tr>\n",
       "      <th>0</th>\n",
       "      <td>Joshua Campbell</td>\n",
       "      <td>2632 Henry Roads Apt. 790, South Lauren, LA 75990</td>\n",
       "      <td>75990</td>\n",
       "      <td>1941-10-04</td>\n",
       "      <td>83</td>\n",
       "    </tr>\n",
       "    <tr>\n",
       "      <th>1</th>\n",
       "      <td>Sandra Thompson</td>\n",
       "      <td>058 Richardson Plaza, Larrystad, GU 88136</td>\n",
       "      <td>88136</td>\n",
       "      <td>1976-05-01</td>\n",
       "      <td>48</td>\n",
       "    </tr>\n",
       "    <tr>\n",
       "      <th>2</th>\n",
       "      <td>Melanie Gonzalez</td>\n",
       "      <td>497 Jones Landing, Port Sheilamouth, MP 39117</td>\n",
       "      <td>39117</td>\n",
       "      <td>1963-10-07</td>\n",
       "      <td>61</td>\n",
       "    </tr>\n",
       "    <tr>\n",
       "      <th>3</th>\n",
       "      <td>Samantha Edwards</td>\n",
       "      <td>59865 Benjamin Spur Suite 119, Singhtown, RI 7...</td>\n",
       "      <td>72042</td>\n",
       "      <td>1999-04-16</td>\n",
       "      <td>25</td>\n",
       "    </tr>\n",
       "    <tr>\n",
       "      <th>4</th>\n",
       "      <td>Nathan Johnson</td>\n",
       "      <td>206 Molina Ferry, West Angela, IL 23011</td>\n",
       "      <td>23011</td>\n",
       "      <td>1988-06-09</td>\n",
       "      <td>36</td>\n",
       "    </tr>\n",
       "  </tbody>\n",
       "</table>\n",
       "</div>"
      ],
      "text/plain": [
       "               Name                                            Address  \\\n",
       "0   Joshua Campbell  2632 Henry Roads Apt. 790, South Lauren, LA 75990   \n",
       "1   Sandra Thompson          058 Richardson Plaza, Larrystad, GU 88136   \n",
       "2  Melanie Gonzalez      497 Jones Landing, Port Sheilamouth, MP 39117   \n",
       "3  Samantha Edwards  59865 Benjamin Spur Suite 119, Singhtown, RI 7...   \n",
       "4    Nathan Johnson            206 Molina Ferry, West Angela, IL 23011   \n",
       "\n",
       "   Pin Code  Birth Date  Age  \n",
       "0     75990  1941-10-04   83  \n",
       "1     88136  1976-05-01   48  \n",
       "2     39117  1963-10-07   61  \n",
       "3     72042  1999-04-16   25  \n",
       "4     23011  1988-06-09   36  "
      ]
     },
     "execution_count": 6,
     "metadata": {},
     "output_type": "execute_result"
    }
   ],
   "source": [
    "\n",
    "query = \"Return the top five data\"\n",
    "data.chat(query)"
   ]
  },
  {
   "cell_type": "code",
   "execution_count": 7,
   "metadata": {},
   "outputs": [
    {
     "name": "stdout",
     "output_type": "stream",
     "text": [
      "{'type': 'string', 'value': 'The city name extracted from the first record is South Lauren.'}\n"
     ]
    },
    {
     "data": {
      "text/plain": [
       "'The city name extracted from the first record is South Lauren.'"
      ]
     },
     "execution_count": 7,
     "metadata": {},
     "output_type": "execute_result"
    }
   ],
   "source": [
    "data.chat(\"Extract the city name from the first record\")"
   ]
  },
  {
   "cell_type": "code",
   "execution_count": 8,
   "metadata": {},
   "outputs": [
    {
     "name": "stdout",
     "output_type": "stream",
     "text": [
      "{'type': 'number', 'value': 199}\n"
     ]
    },
    {
     "data": {
      "text/plain": [
       "199"
      ]
     },
     "execution_count": 8,
     "metadata": {},
     "output_type": "execute_result"
    }
   ],
   "source": [
    "query = \"How many unique cities are there\"\n",
    "data.chat(query)"
   ]
  },
  {
   "cell_type": "code",
   "execution_count": 9,
   "metadata": {},
   "outputs": [
    {
     "name": "stdout",
     "output_type": "stream",
     "text": [
      "{'type': 'number', 'value': 76}\n"
     ]
    },
    {
     "data": {
      "text/plain": [
       "76"
      ]
     },
     "execution_count": 9,
     "metadata": {},
     "output_type": "execute_result"
    }
   ],
   "source": [
    "query = \"How many unique surnames are there\"\n",
    "data.chat(query)"
   ]
  },
  {
   "cell_type": "code",
   "execution_count": 10,
   "metadata": {},
   "outputs": [
    {
     "data": {
      "text/plain": [
       "'Does address have duplicate values? Yes'"
      ]
     },
     "execution_count": 10,
     "metadata": {},
     "output_type": "execute_result"
    }
   ],
   "source": [
    "query = \"Does address has duplicate values?\"\n",
    "data.chat(query)"
   ]
  },
  {
   "cell_type": "code",
   "execution_count": null,
   "metadata": {},
   "outputs": [],
   "source": []
  },
  {
   "cell_type": "code",
   "execution_count": null,
   "metadata": {},
   "outputs": [],
   "source": []
  }
 ],
 "metadata": {
  "kernelspec": {
   "display_name": "Python 3",
   "language": "python",
   "name": "python3"
  },
  "language_info": {
   "codemirror_mode": {
    "name": "ipython",
    "version": 3
   },
   "file_extension": ".py",
   "mimetype": "text/x-python",
   "name": "python",
   "nbconvert_exporter": "python",
   "pygments_lexer": "ipython3",
   "version": "3.10.14"
  }
 },
 "nbformat": 4,
 "nbformat_minor": 2
}
